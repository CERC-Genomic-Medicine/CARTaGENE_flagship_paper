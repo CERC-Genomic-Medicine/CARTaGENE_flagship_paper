{
 "cells": [
  {
   "cell_type": "code",
   "execution_count": 1,
   "metadata": {},
   "outputs": [],
   "source": [
    "# import modules \n",
    "import pandas as pd \n",
    "import matplotlib.pyplot as plt\n",
    "import numpy as np\n",
    "import re\n",
    "import csv\n",
    "import filters as f"
   ]
  },
  {
   "cell_type": "code",
   "execution_count": 2,
   "metadata": {},
   "outputs": [],
   "source": [
    "# Path to data file in csv format\n",
    "data_file = \"/home/gfemer/projects/ctb-sgravel/cartagene/research/quebec_structure_936028/data/old_metadata/data_Gravel936028_2.csv\"\n",
    "# Path to metadata info file in xlsx format\n",
    "catalog_file = '/home/gfemer/projects/ctb-sgravel/cartagene/research/quebec_structure_936028/data/old_metadata/COMBINED_CATALOG_v2_9_6 - JUIL2020_0.xlsx'\n",
    "\n",
    "# Relevant fields\n",
    "fields = \"ethnic,country,BIRTHYEAR,IMMIGRATION\"\n",
    "\n",
    "# Path to phase2 country other codes\n",
    "phase2_file = \"/home/gfemer/storage/Cartagene/databases/phase2_country.txt\"\n",
    "# Path to ISO county code file\n",
    "iso_file = \"/home/gfemer/storage/Cartagene/databases/ISO_country_codes_edited_cartagene.txt\""
   ]
  },
  {
   "cell_type": "code",
   "execution_count": 8,
   "metadata": {},
   "outputs": [],
   "source": [
    "# Relevant filter and sample\n",
    "filters = \"HAITI\"\n",
    "samplepops1 = \"FRANCE,SPAIN\"\n",
    "samplepops2 = \"CONGO_DEMOCRATIC_REPUBLIC,CAMEROON,COTE_DIVOIRE\"\n",
    "samplen = 50\n",
    "# out = \"~/storage/Cartagene/data/gsa_cartagene/gsa_merged_hg38.Haiti_FC.keep\"\n",
    "out = \"/home/gfemer/storage/Cartagene/Haiti/panel/gsa_merged_hg38.Haiti_FC.r2.keep\"\n",
    "\n",
    "filters = filters.split(\",\")\n",
    "samplepops1 = samplepops1.split(\",\")\n",
    "samplepops2 = samplepops2.split(\",\")\n",
    "fields = \"file111,PHASE,SEXE,SEX_BIRTH\"+fields"
   ]
  },
  {
   "cell_type": "code",
   "execution_count": 9,
   "metadata": {},
   "outputs": [
    {
     "name": "stdout",
     "output_type": "stream",
     "text": [
      "Reading metadata\n"
     ]
    },
    {
     "name": "stdout",
     "output_type": "stream",
     "text": [
      "Finished reading data\n"
     ]
    }
   ],
   "source": [
    "data1 = f.parse_metadata(data_file,catalog_file,fields,drop_other=False)\n",
    "data = f.correct_iso(data1,phase2_file,iso_file)"
   ]
  },
  {
   "cell_type": "markdown",
   "metadata": {},
   "source": [
    "Sample pops, if n>50, use sample, else filter by value"
   ]
  },
  {
   "cell_type": "code",
   "execution_count": 9,
   "metadata": {},
   "outputs": [
    {
     "name": "stderr",
     "output_type": "stream",
     "text": [
      "/lustre06/project/6068353/gfemer/Cartagene/Flagship/scripts/filters.py:125: SettingWithCopyWarning: \n",
      "A value is trying to be set on a copy of a slice from a DataFrame.\n",
      "Try using .loc[row_indexer,col_indexer] = value instead\n",
      "\n",
      "See the caveats in the documentation: https://pandas.pydata.org/pandas-docs/stable/user_guide/indexing.html#returning-a-view-versus-a-copy\n",
      "  sampled.loc[:,\"NO_GRANDPARENTS\"] = (sampled.filter(regex=re.compile(expression, re.IGNORECASE)).isin([pop])).sum(1) # Number of grandparents in that country\n",
      "/lustre06/project/6068353/gfemer/Cartagene/Flagship/scripts/filters.py:125: SettingWithCopyWarning: \n",
      "A value is trying to be set on a copy of a slice from a DataFrame.\n",
      "Try using .loc[row_indexer,col_indexer] = value instead\n",
      "\n",
      "See the caveats in the documentation: https://pandas.pydata.org/pandas-docs/stable/user_guide/indexing.html#returning-a-view-versus-a-copy\n",
      "  sampled.loc[:,\"NO_GRANDPARENTS\"] = (sampled.filter(regex=re.compile(expression, re.IGNORECASE)).isin([pop])).sum(1) # Number of grandparents in that country\n"
     ]
    }
   ],
   "source": [
    "Sample_pops = f.sample_pop(data,samplepops1,strict=True,avoid=filters)"
   ]
  },
  {
   "cell_type": "code",
   "execution_count": 10,
   "metadata": {},
   "outputs": [
    {
     "name": "stdout",
     "output_type": "stream",
     "text": [
      "Total individuals extracted with AFR ancestry  87\n",
      "Total number of AFR individuals retained:  60\n",
      "CONGO_DEMOCRATIC_REPUBLIC    25\n",
      "CAMEROON                     22\n",
      "COTE_DIVOIRE                 13\n",
      "Name: Population, dtype: int64\n"
     ]
    }
   ],
   "source": [
    "data_AFR = f.filter_by_value(data,samplepops2)\n",
    "\n",
    "# Find columns with 'MOTHERS' or 'FATHERS' in their names\n",
    "filtered_columns = [col for col in data.columns if 'MOTHERS' in col or 'FATHERS' in col]\n",
    "\n",
    "data_AFR['NGP_COUNTRY_INTEREST'] = data_AFR[filtered_columns].isin(samplepops2).sum(axis=1)\n",
    "print(\"Total individuals extracted with AFR ancestry \", len(data_AFR))\n",
    "\n",
    "# Extract individuals with total ancestry\n",
    "data_AFR = data_AFR[data_AFR.NGP_COUNTRY_INTEREST == 4].copy()\n",
    "data_AFR['Population'] = data_AFR.MOTHERS_MOTHER_COUNTRY_BIRTH\n",
    "\n",
    "print(\"Total number of AFR individuals retained: \", len(data_AFR))\n",
    "\n",
    "print(data_AFR.Population.value_counts())"
   ]
  },
  {
   "cell_type": "markdown",
   "metadata": {},
   "source": [
    "Filter Haiti"
   ]
  },
  {
   "cell_type": "code",
   "execution_count": 10,
   "metadata": {},
   "outputs": [],
   "source": [
    "d = f.filter_by_value(data,filters)"
   ]
  },
  {
   "cell_type": "code",
   "execution_count": 11,
   "metadata": {},
   "outputs": [
    {
     "data": {
      "text/plain": [
       "PHASE A                  251\n",
       "PHASE B - SECOND WAVE     69\n",
       "Name: phase, dtype: int64"
      ]
     },
     "execution_count": 11,
     "metadata": {},
     "output_type": "execute_result"
    }
   ],
   "source": [
    "d.phase.value_counts()"
   ]
  },
  {
   "cell_type": "code",
   "execution_count": 12,
   "metadata": {},
   "outputs": [
    {
     "data": {
      "text/html": [
       "<div>\n",
       "<style scoped>\n",
       "    .dataframe tbody tr th:only-of-type {\n",
       "        vertical-align: middle;\n",
       "    }\n",
       "\n",
       "    .dataframe tbody tr th {\n",
       "        vertical-align: top;\n",
       "    }\n",
       "\n",
       "    .dataframe thead th {\n",
       "        text-align: right;\n",
       "    }\n",
       "</style>\n",
       "<table border=\"1\" class=\"dataframe\">\n",
       "  <thead>\n",
       "    <tr style=\"text-align: right;\">\n",
       "      <th></th>\n",
       "      <th>file111</th>\n",
       "      <th>phase</th>\n",
       "      <th>BIRTHYEAR</th>\n",
       "      <th>sexe</th>\n",
       "      <th>AGE_IMMIGRATION</th>\n",
       "      <th>AGE_IMMIGRATION_AGE</th>\n",
       "      <th>AGE_IMMIGRATION_YEAR</th>\n",
       "      <th>COUNTRY_BIRTH</th>\n",
       "      <th>MOTHER_COUNTRY_BIRTH</th>\n",
       "      <th>FATHER_COUNTRY_BIRTH</th>\n",
       "      <th>MOTHERS_MOTHER_COUNTRY_BIRTH</th>\n",
       "      <th>MOTHERS_FATHER_COUNTRY_BIRTH</th>\n",
       "      <th>FATHERS_MOTHER_COUNTRY_BIRTH</th>\n",
       "      <th>FATHERS_FATHER_COUNTRY_BIRTH</th>\n",
       "    </tr>\n",
       "  </thead>\n",
       "  <tbody>\n",
       "    <tr>\n",
       "      <th>171</th>\n",
       "      <td>11126105</td>\n",
       "      <td>PHASE A</td>\n",
       "      <td>1969</td>\n",
       "      <td>FEMALE</td>\n",
       "      <td>YEAR</td>\n",
       "      <td>NA</td>\n",
       "      <td>1995</td>\n",
       "      <td>HAITI</td>\n",
       "      <td>HAITI</td>\n",
       "      <td>HAITI</td>\n",
       "      <td>HAITI</td>\n",
       "      <td>HAITI</td>\n",
       "      <td>FRANCE</td>\n",
       "      <td>NO ANSWER</td>\n",
       "    </tr>\n",
       "    <tr>\n",
       "      <th>176</th>\n",
       "      <td>11115335</td>\n",
       "      <td>PHASE A</td>\n",
       "      <td>1957</td>\n",
       "      <td>FEMALE</td>\n",
       "      <td>AGE</td>\n",
       "      <td>36</td>\n",
       "      <td>NA</td>\n",
       "      <td>HAITI</td>\n",
       "      <td>HAITI</td>\n",
       "      <td>HAITI</td>\n",
       "      <td>HAITI</td>\n",
       "      <td>HAITI</td>\n",
       "      <td>HAITI</td>\n",
       "      <td>HAITI</td>\n",
       "    </tr>\n",
       "    <tr>\n",
       "      <th>266</th>\n",
       "      <td>11124835</td>\n",
       "      <td>PHASE A</td>\n",
       "      <td>1961</td>\n",
       "      <td>MALE</td>\n",
       "      <td>YEAR</td>\n",
       "      <td>NA</td>\n",
       "      <td>1995</td>\n",
       "      <td>HAITI</td>\n",
       "      <td>HAITI</td>\n",
       "      <td>HAITI</td>\n",
       "      <td>HAITI</td>\n",
       "      <td>HAITI</td>\n",
       "      <td>NO ANSWER</td>\n",
       "      <td>NO ANSWER</td>\n",
       "    </tr>\n",
       "    <tr>\n",
       "      <th>372</th>\n",
       "      <td>11136128</td>\n",
       "      <td>PHASE A</td>\n",
       "      <td>1965</td>\n",
       "      <td>MALE</td>\n",
       "      <td>YEAR</td>\n",
       "      <td>NA</td>\n",
       "      <td>1993</td>\n",
       "      <td>HAITI</td>\n",
       "      <td>HAITI</td>\n",
       "      <td>HAITI</td>\n",
       "      <td>HAITI</td>\n",
       "      <td>HAITI</td>\n",
       "      <td>HAITI</td>\n",
       "      <td>HAITI</td>\n",
       "    </tr>\n",
       "    <tr>\n",
       "      <th>454</th>\n",
       "      <td>11132379</td>\n",
       "      <td>PHASE A</td>\n",
       "      <td>1940</td>\n",
       "      <td>FEMALE</td>\n",
       "      <td>YEAR</td>\n",
       "      <td>NA</td>\n",
       "      <td>1971</td>\n",
       "      <td>HAITI</td>\n",
       "      <td>HAITI</td>\n",
       "      <td>HAITI</td>\n",
       "      <td>HAITI</td>\n",
       "      <td>HAITI</td>\n",
       "      <td>HAITI</td>\n",
       "      <td>NO ANSWER</td>\n",
       "    </tr>\n",
       "    <tr>\n",
       "      <th>...</th>\n",
       "      <td>...</td>\n",
       "      <td>...</td>\n",
       "      <td>...</td>\n",
       "      <td>...</td>\n",
       "      <td>...</td>\n",
       "      <td>...</td>\n",
       "      <td>...</td>\n",
       "      <td>...</td>\n",
       "      <td>...</td>\n",
       "      <td>...</td>\n",
       "      <td>...</td>\n",
       "      <td>...</td>\n",
       "      <td>...</td>\n",
       "      <td>...</td>\n",
       "    </tr>\n",
       "    <tr>\n",
       "      <th>28122</th>\n",
       "      <td>11138665</td>\n",
       "      <td>PHASE A</td>\n",
       "      <td>1967</td>\n",
       "      <td>FEMALE</td>\n",
       "      <td>YEAR</td>\n",
       "      <td>NA</td>\n",
       "      <td>1995</td>\n",
       "      <td>HAITI</td>\n",
       "      <td>HAITI</td>\n",
       "      <td>HAITI</td>\n",
       "      <td>HAITI</td>\n",
       "      <td>HAITI</td>\n",
       "      <td>HAITI</td>\n",
       "      <td>HAITI</td>\n",
       "    </tr>\n",
       "    <tr>\n",
       "      <th>28445</th>\n",
       "      <td>11103656</td>\n",
       "      <td>PHASE A</td>\n",
       "      <td>1942</td>\n",
       "      <td>MALE</td>\n",
       "      <td>AGE</td>\n",
       "      <td>28</td>\n",
       "      <td>NA</td>\n",
       "      <td>HAITI</td>\n",
       "      <td>HAITI</td>\n",
       "      <td>HAITI</td>\n",
       "      <td>HAITI</td>\n",
       "      <td>HAITI</td>\n",
       "      <td>HAITI</td>\n",
       "      <td>HAITI</td>\n",
       "    </tr>\n",
       "    <tr>\n",
       "      <th>28763</th>\n",
       "      <td>11126870</td>\n",
       "      <td>PHASE A</td>\n",
       "      <td>1966</td>\n",
       "      <td>MALE</td>\n",
       "      <td>YEAR</td>\n",
       "      <td>NA</td>\n",
       "      <td>1984</td>\n",
       "      <td>HAITI</td>\n",
       "      <td>HAITI</td>\n",
       "      <td>HAITI</td>\n",
       "      <td>HAITI</td>\n",
       "      <td>HAITI</td>\n",
       "      <td>HAITI</td>\n",
       "      <td>HAITI</td>\n",
       "    </tr>\n",
       "    <tr>\n",
       "      <th>28950</th>\n",
       "      <td>11124886</td>\n",
       "      <td>PHASE A</td>\n",
       "      <td>1957</td>\n",
       "      <td>MALE</td>\n",
       "      <td>YEAR</td>\n",
       "      <td>NA</td>\n",
       "      <td>1977</td>\n",
       "      <td>HAITI</td>\n",
       "      <td>HAITI</td>\n",
       "      <td>SYRIAN_ARAB_RAPUBLIC</td>\n",
       "      <td>NO ANSWER</td>\n",
       "      <td>HAITI</td>\n",
       "      <td>SYRIAN_ARAB_RAPUBLIC</td>\n",
       "      <td>SYRIAN_ARAB_RAPUBLIC</td>\n",
       "    </tr>\n",
       "    <tr>\n",
       "      <th>29198</th>\n",
       "      <td>11108552</td>\n",
       "      <td>PHASE A</td>\n",
       "      <td>1957</td>\n",
       "      <td>MALE</td>\n",
       "      <td>AGE</td>\n",
       "      <td>10</td>\n",
       "      <td>NA</td>\n",
       "      <td>HAITI</td>\n",
       "      <td>HAITI</td>\n",
       "      <td>HAITI</td>\n",
       "      <td>HAITI</td>\n",
       "      <td>HAITI</td>\n",
       "      <td>FRANCE</td>\n",
       "      <td>HAITI</td>\n",
       "    </tr>\n",
       "  </tbody>\n",
       "</table>\n",
       "<p>320 rows × 14 columns</p>\n",
       "</div>"
      ],
      "text/plain": [
       "        file111    phase BIRTHYEAR    sexe AGE_IMMIGRATION  \\\n",
       "171    11126105  PHASE A      1969  FEMALE            YEAR   \n",
       "176    11115335  PHASE A      1957  FEMALE             AGE   \n",
       "266    11124835  PHASE A      1961    MALE            YEAR   \n",
       "372    11136128  PHASE A      1965    MALE            YEAR   \n",
       "454    11132379  PHASE A      1940  FEMALE            YEAR   \n",
       "...         ...      ...       ...     ...             ...   \n",
       "28122  11138665  PHASE A      1967  FEMALE            YEAR   \n",
       "28445  11103656  PHASE A      1942    MALE             AGE   \n",
       "28763  11126870  PHASE A      1966    MALE            YEAR   \n",
       "28950  11124886  PHASE A      1957    MALE            YEAR   \n",
       "29198  11108552  PHASE A      1957    MALE             AGE   \n",
       "\n",
       "      AGE_IMMIGRATION_AGE AGE_IMMIGRATION_YEAR COUNTRY_BIRTH  \\\n",
       "171                    NA                 1995         HAITI   \n",
       "176                    36                   NA         HAITI   \n",
       "266                    NA                 1995         HAITI   \n",
       "372                    NA                 1993         HAITI   \n",
       "454                    NA                 1971         HAITI   \n",
       "...                   ...                  ...           ...   \n",
       "28122                  NA                 1995         HAITI   \n",
       "28445                  28                   NA         HAITI   \n",
       "28763                  NA                 1984         HAITI   \n",
       "28950                  NA                 1977         HAITI   \n",
       "29198                  10                   NA         HAITI   \n",
       "\n",
       "      MOTHER_COUNTRY_BIRTH  FATHER_COUNTRY_BIRTH MOTHERS_MOTHER_COUNTRY_BIRTH  \\\n",
       "171                  HAITI                 HAITI                        HAITI   \n",
       "176                  HAITI                 HAITI                        HAITI   \n",
       "266                  HAITI                 HAITI                        HAITI   \n",
       "372                  HAITI                 HAITI                        HAITI   \n",
       "454                  HAITI                 HAITI                        HAITI   \n",
       "...                    ...                   ...                          ...   \n",
       "28122                HAITI                 HAITI                        HAITI   \n",
       "28445                HAITI                 HAITI                        HAITI   \n",
       "28763                HAITI                 HAITI                        HAITI   \n",
       "28950                HAITI  SYRIAN_ARAB_RAPUBLIC                    NO ANSWER   \n",
       "29198                HAITI                 HAITI                        HAITI   \n",
       "\n",
       "      MOTHERS_FATHER_COUNTRY_BIRTH FATHERS_MOTHER_COUNTRY_BIRTH  \\\n",
       "171                          HAITI                       FRANCE   \n",
       "176                          HAITI                        HAITI   \n",
       "266                          HAITI                    NO ANSWER   \n",
       "372                          HAITI                        HAITI   \n",
       "454                          HAITI                        HAITI   \n",
       "...                            ...                          ...   \n",
       "28122                        HAITI                        HAITI   \n",
       "28445                        HAITI                        HAITI   \n",
       "28763                        HAITI                        HAITI   \n",
       "28950                        HAITI         SYRIAN_ARAB_RAPUBLIC   \n",
       "29198                        HAITI                       FRANCE   \n",
       "\n",
       "      FATHERS_FATHER_COUNTRY_BIRTH  \n",
       "171                      NO ANSWER  \n",
       "176                          HAITI  \n",
       "266                      NO ANSWER  \n",
       "372                          HAITI  \n",
       "454                      NO ANSWER  \n",
       "...                            ...  \n",
       "28122                        HAITI  \n",
       "28445                        HAITI  \n",
       "28763                        HAITI  \n",
       "28950         SYRIAN_ARAB_RAPUBLIC  \n",
       "29198                        HAITI  \n",
       "\n",
       "[320 rows x 14 columns]"
      ]
     },
     "execution_count": 12,
     "metadata": {},
     "output_type": "execute_result"
    }
   ],
   "source": [
    "d"
   ]
  },
  {
   "cell_type": "code",
   "execution_count": 13,
   "metadata": {},
   "outputs": [
    {
     "name": "stdout",
     "output_type": "stream",
     "text": [
      "HAITI 314\n"
     ]
    }
   ],
   "source": [
    "# Check for Mixed Ancestry in the grandparents\n",
    "Haiti_data= pd.DataFrame()\n",
    "expression='MOTHERS|FATHERS'\n",
    "\n",
    "NA_data_all = f.filter_by_value(data,filters)\n",
    "\n",
    "for country in filters:\n",
    "    datapop = f.filter_by_value(NA_data_all,[country]) # subset of people with that country value\n",
    "    datapop.loc[:,\"NO_GRANDPARENTS\"] = (datapop.filter(regex=re.compile(expression, re.IGNORECASE)).isin([country])).sum(1) # Number of grandparents in that country\n",
    "    datapop['Population'] = [country+\"_CAD\" if i==4 else country+\"_CAD_PA\" if i > 0 else None for i in datapop.loc[:,'NO_GRANDPARENTS']]\n",
    "    datapop = datapop[datapop.NO_GRANDPARENTS != 0]\n",
    "    Haiti_data = pd.concat([Haiti_data,datapop])\n",
    "    print(country,len(datapop))\n",
    "Haiti_data = Haiti_data.dropna()\n",
    "Haiti_data = Haiti_data.drop_duplicates(['file111'],keep='first')"
   ]
  },
  {
   "cell_type": "code",
   "execution_count": 14,
   "metadata": {},
   "outputs": [
    {
     "data": {
      "text/plain": [
       "HAITI_CAD       270\n",
       "HAITI_CAD_PA     44\n",
       "Name: Population, dtype: int64"
      ]
     },
     "execution_count": 14,
     "metadata": {},
     "output_type": "execute_result"
    }
   ],
   "source": [
    "Haiti_data.Population.value_counts()"
   ]
  },
  {
   "cell_type": "code",
   "execution_count": 18,
   "metadata": {},
   "outputs": [],
   "source": [
    "out = '/home/gfemer/storage/Cartagene/Flagship/Haiti/panel/gsa_merged_Haiti_EurAfr.keep'\n",
    "f.write_keep(out,Haiti_data[Haiti_data.Population == \"HAITI_CAD\"],Sample_pops,data_AFR)"
   ]
  },
  {
   "attachments": {},
   "cell_type": "markdown",
   "metadata": {},
   "source": [
    "Questionaire data exploration"
   ]
  },
  {
   "cell_type": "code",
   "execution_count": 18,
   "metadata": {},
   "outputs": [],
   "source": [
    "# Convert 'BIRTHYEAR' to numeric\n",
    "Haiti_data['BIRTHYEAR'] = pd.to_numeric(Haiti_data['BIRTHYEAR'], errors='coerce')  # 'coerce' converts non-numeric values to NaN\n",
    "Haiti_data['AGE_IMMIGRATION_YEAR'] = pd.to_numeric(Haiti_data['AGE_IMMIGRATION_YEAR'], downcast = 'integer', errors='coerce')  # 'coerce' converts non-numeric values to NaN\n",
    "Haiti_data['AGE_IMMIGRATION_AGE'] = pd.to_numeric(Haiti_data['AGE_IMMIGRATION_AGE'], downcast = 'integer', errors='coerce')  # 'coerce' converts non-numeric values to NaN"
   ]
  },
  {
   "cell_type": "code",
   "execution_count": 19,
   "metadata": {},
   "outputs": [],
   "source": [
    "Haiti_data.loc[Haiti_data['AGE_IMMIGRATION'] == 'AGE','AGE_IMMIGRATION_YEAR'] = Haiti_data.loc[Haiti_data['AGE_IMMIGRATION'] == 'AGE','AGE_IMMIGRATION_AGE'] + Haiti_data.loc[Haiti_data['AGE_IMMIGRATION'] == 'AGE','BIRTHYEAR']"
   ]
  },
  {
   "cell_type": "code",
   "execution_count": 20,
   "metadata": {},
   "outputs": [],
   "source": [
    "Haiti_fa = Haiti_data[Haiti_data.Population == \"HAITI_CAD\"]"
   ]
  },
  {
   "cell_type": "code",
   "execution_count": 10,
   "metadata": {},
   "outputs": [
    {
     "data": {
      "text/html": [
       "<div>\n",
       "<style scoped>\n",
       "    .dataframe tbody tr th:only-of-type {\n",
       "        vertical-align: middle;\n",
       "    }\n",
       "\n",
       "    .dataframe tbody tr th {\n",
       "        vertical-align: top;\n",
       "    }\n",
       "\n",
       "    .dataframe thead tr th {\n",
       "        text-align: left;\n",
       "    }\n",
       "\n",
       "    .dataframe thead tr:last-of-type th {\n",
       "        text-align: right;\n",
       "    }\n",
       "</style>\n",
       "<table border=\"1\" class=\"dataframe\">\n",
       "  <thead>\n",
       "    <tr>\n",
       "      <th></th>\n",
       "      <th></th>\n",
       "      <th colspan=\"4\" halign=\"left\">BIRTHYEAR</th>\n",
       "      <th colspan=\"4\" halign=\"left\">AGE_IMMIGRATION_YEAR</th>\n",
       "    </tr>\n",
       "    <tr>\n",
       "      <th></th>\n",
       "      <th></th>\n",
       "      <th>count</th>\n",
       "      <th>mean</th>\n",
       "      <th>median</th>\n",
       "      <th>std</th>\n",
       "      <th>count</th>\n",
       "      <th>mean</th>\n",
       "      <th>median</th>\n",
       "      <th>std</th>\n",
       "    </tr>\n",
       "    <tr>\n",
       "      <th>Population</th>\n",
       "      <th>COUNTRY_BIRTH</th>\n",
       "      <th></th>\n",
       "      <th></th>\n",
       "      <th></th>\n",
       "      <th></th>\n",
       "      <th></th>\n",
       "      <th></th>\n",
       "      <th></th>\n",
       "      <th></th>\n",
       "    </tr>\n",
       "  </thead>\n",
       "  <tbody>\n",
       "    <tr>\n",
       "      <th rowspan=\"3\" valign=\"top\">HAITI_CAD</th>\n",
       "      <th>CANADA</th>\n",
       "      <td>2</td>\n",
       "      <td>1959.00</td>\n",
       "      <td>1959.0</td>\n",
       "      <td>1.41</td>\n",
       "      <td>0</td>\n",
       "      <td>NaN</td>\n",
       "      <td>NaN</td>\n",
       "      <td>NaN</td>\n",
       "    </tr>\n",
       "    <tr>\n",
       "      <th>HAITI</th>\n",
       "      <td>267</td>\n",
       "      <td>1957.53</td>\n",
       "      <td>1959.0</td>\n",
       "      <td>8.84</td>\n",
       "      <td>266</td>\n",
       "      <td>1985.49</td>\n",
       "      <td>1983.5</td>\n",
       "      <td>12.62</td>\n",
       "    </tr>\n",
       "    <tr>\n",
       "      <th>UNITED_STATES</th>\n",
       "      <td>1</td>\n",
       "      <td>1970.00</td>\n",
       "      <td>1970.0</td>\n",
       "      <td>NaN</td>\n",
       "      <td>1</td>\n",
       "      <td>2010.00</td>\n",
       "      <td>2010.0</td>\n",
       "      <td>NaN</td>\n",
       "    </tr>\n",
       "  </tbody>\n",
       "</table>\n",
       "</div>"
      ],
      "text/plain": [
       "                         BIRTHYEAR                         \\\n",
       "                             count     mean  median   std   \n",
       "Population COUNTRY_BIRTH                                    \n",
       "HAITI_CAD  CANADA                2  1959.00  1959.0  1.41   \n",
       "           HAITI               267  1957.53  1959.0  8.84   \n",
       "           UNITED_STATES         1  1970.00  1970.0   NaN   \n",
       "\n",
       "                         AGE_IMMIGRATION_YEAR                          \n",
       "                                        count     mean  median    std  \n",
       "Population COUNTRY_BIRTH                                               \n",
       "HAITI_CAD  CANADA                           0      NaN     NaN    NaN  \n",
       "           HAITI                          266  1985.49  1983.5  12.62  \n",
       "           UNITED_STATES                    1  2010.00  2010.0    NaN  "
      ]
     },
     "execution_count": 10,
     "metadata": {},
     "output_type": "execute_result"
    }
   ],
   "source": [
    "Haiti_fa.groupby([\"Population\",\"COUNTRY_BIRTH\"])[['BIRTHYEAR','AGE_IMMIGRATION_YEAR']].agg(['count','mean','median','std']).round(2)"
   ]
  },
  {
   "cell_type": "code",
   "execution_count": 97,
   "metadata": {},
   "outputs": [
    {
     "data": {
      "text/plain": [
       "count     267.000000\n",
       "mean       27.988764\n",
       "median     28.000000\n",
       "std         9.897400\n",
       "dtype: float64"
      ]
     },
     "execution_count": 97,
     "metadata": {},
     "output_type": "execute_result"
    }
   ],
   "source": [
    "(Haiti_fa.AGE_IMMIGRATION_YEAR - Haiti_fa.BIRTHYEAR).agg(['count','mean','median','std'])"
   ]
  },
  {
   "cell_type": "code",
   "execution_count": 100,
   "metadata": {},
   "outputs": [
    {
     "data": {
      "text/plain": [
       "<AxesSubplot:ylabel='Count'>"
      ]
     },
     "execution_count": 100,
     "metadata": {},
     "output_type": "execute_result"
    },
    {
     "data": {
      "image/png": "[encoded data removed]",
      "text/plain": [
       "<Figure size 432x288 with 1 Axes>"
      ]
     },
     "metadata": {
      "needs_background": "light"
     },
     "output_type": "display_data"
    }
   ],
   "source": [
    "sns.histplot((Haiti_fa.AGE_IMMIGRATION_YEAR - Haiti_fa.BIRTHYEAR))"
   ]
  },
  {
   "cell_type": "code",
   "execution_count": 24,
   "metadata": {},
   "outputs": [],
   "source": [
    "import seaborn as sns"
   ]
  },
  {
   "cell_type": "code",
   "execution_count": 22,
   "metadata": {},
   "outputs": [
    {
     "data": {
      "text/plain": [
       "<AxesSubplot:xlabel='BIRTHYEAR', ylabel='Count'>"
      ]
     },
     "execution_count": 22,
     "metadata": {},
     "output_type": "execute_result"
    },
    {
     "data": {
      "image/png": "[encoded data removed]",
      "text/plain": [
       "<Figure size 432x288 with 1 Axes>"
      ]
     },
     "metadata": {
      "needs_background": "light"
     },
     "output_type": "display_data"
    }
   ],
   "source": [
    "sns.histplot(Haiti_fa.BIRTHYEAR)"
   ]
  },
  {
   "cell_type": "code",
   "execution_count": 29,
   "metadata": {},
   "outputs": [
    {
     "data": {
      "text/plain": [
       "77.56126200274348"
      ]
     },
     "execution_count": 29,
     "metadata": {},
     "output_type": "execute_result"
    }
   ],
   "source": [
    "print(np.mean(Haiti_fa.BIRTHYEAR)\n",
    "np.std(Haiti_fa.BIRTHYEAR)\n",
    "np.var(Haiti_fa.BIRTHYEAR)"
   ]
  },
  {
   "cell_type": "code",
   "execution_count": 79,
   "metadata": {},
   "outputs": [
    {
     "data": {
      "text/plain": [
       "<AxesSubplot:xlabel='AGE_IMMIGRATION_YEAR', ylabel='Count'>"
      ]
     },
     "execution_count": 79,
     "metadata": {},
     "output_type": "execute_result"
    },
    {
     "data": {
      "image/png": "[encoded data removed]",
      "text/plain": [
       "<Figure size 432x288 with 1 Axes>"
      ]
     },
     "metadata": {
      "needs_background": "light"
     },
     "output_type": "display_data"
    }
   ],
   "source": [
    "sns.histplot(Haiti_fa.AGE_IMMIGRATION_YEAR)"
   ]
  },
  {
   "cell_type": "code",
   "execution_count": null,
   "metadata": {},
   "outputs": [],
   "source": [
    "Haiti_fa.AGE_IMMIGRATION_YEAR.value_counts()"
   ]
  },
  {
   "cell_type": "code",
   "execution_count": 78,
   "metadata": {},
   "outputs": [
    {
     "data": {
      "text/plain": [
       "count      267.000000\n",
       "mean      1985.580524\n",
       "median    1984.000000\n",
       "std         12.682209\n",
       "Name: AGE_IMMIGRATION_YEAR, dtype: float64"
      ]
     },
     "execution_count": 78,
     "metadata": {},
     "output_type": "execute_result"
    }
   ],
   "source": [
    "Haiti_fa.AGE_IMMIGRATION_YEAR.agg(['count','mean','median','std'])"
   ]
  },
  {
   "cell_type": "code",
   "execution_count": 90,
   "metadata": {},
   "outputs": [
    {
     "data": {
      "image/png": "[encoded data removed]",
      "text/plain": [
       "<Figure size 432x288 with 1 Axes>"
      ]
     },
     "metadata": {
      "needs_background": "light"
     },
     "output_type": "display_data"
    }
   ],
   "source": [
    "sns.violinplot(x='Population', y='AGE_IMMIGRATION_YEAR', data=Haiti_fa[Haiti_fa.COUNTRY_BIRTH==\"HAITI\"])\n",
    "plt.title('Distribution of Immigration Year among Haitians')\n",
    "plt.savefig(\"ViolinPlot_Haiti_by_immigrationyear.jpg\")"
   ]
  },
  {
   "cell_type": "code",
   "execution_count": 22,
   "metadata": {},
   "outputs": [
    {
     "data": {
      "text/html": [
       "<div>\n",
       "<style scoped>\n",
       "    .dataframe tbody tr th:only-of-type {\n",
       "        vertical-align: middle;\n",
       "    }\n",
       "\n",
       "    .dataframe tbody tr th {\n",
       "        vertical-align: top;\n",
       "    }\n",
       "\n",
       "    .dataframe thead tr th {\n",
       "        text-align: left;\n",
       "    }\n",
       "\n",
       "    .dataframe thead tr:last-of-type th {\n",
       "        text-align: right;\n",
       "    }\n",
       "</style>\n",
       "<table border=\"1\" class=\"dataframe\">\n",
       "  <thead>\n",
       "    <tr>\n",
       "      <th></th>\n",
       "      <th colspan=\"3\" halign=\"left\">BIRTHYEAR</th>\n",
       "      <th colspan=\"3\" halign=\"left\">AGE_IMMIGRATION_YEAR</th>\n",
       "    </tr>\n",
       "    <tr>\n",
       "      <th></th>\n",
       "      <th>count</th>\n",
       "      <th>mean</th>\n",
       "      <th>std</th>\n",
       "      <th>count</th>\n",
       "      <th>mean</th>\n",
       "      <th>std</th>\n",
       "    </tr>\n",
       "    <tr>\n",
       "      <th>sexe</th>\n",
       "      <th></th>\n",
       "      <th></th>\n",
       "      <th></th>\n",
       "      <th></th>\n",
       "      <th></th>\n",
       "      <th></th>\n",
       "    </tr>\n",
       "  </thead>\n",
       "  <tbody>\n",
       "    <tr>\n",
       "      <th>FEMALE</th>\n",
       "      <td>135</td>\n",
       "      <td>1957.56</td>\n",
       "      <td>8.40</td>\n",
       "      <td>135</td>\n",
       "      <td>1984.49</td>\n",
       "      <td>12.56</td>\n",
       "    </tr>\n",
       "    <tr>\n",
       "      <th>MALE</th>\n",
       "      <td>135</td>\n",
       "      <td>1957.61</td>\n",
       "      <td>9.26</td>\n",
       "      <td>132</td>\n",
       "      <td>1986.70</td>\n",
       "      <td>12.76</td>\n",
       "    </tr>\n",
       "  </tbody>\n",
       "</table>\n",
       "</div>"
      ],
      "text/plain": [
       "       BIRTHYEAR                AGE_IMMIGRATION_YEAR                \n",
       "           count     mean   std                count     mean    std\n",
       "sexe                                                                \n",
       "FEMALE       135  1957.56  8.40                  135  1984.49  12.56\n",
       "MALE         135  1957.61  9.26                  132  1986.70  12.76"
      ]
     },
     "execution_count": 22,
     "metadata": {},
     "output_type": "execute_result"
    }
   ],
   "source": [
    "Haiti_fa.groupby(\"sexe\")[['BIRTHYEAR','AGE_IMMIGRATION_YEAR']].agg(['count','mean','std']).round(2)"
   ]
  },
  {
   "cell_type": "code",
   "execution_count": 25,
   "metadata": {},
   "outputs": [
    {
     "data": {
      "text/plain": [
       "<AxesSubplot:xlabel='sexe', ylabel='AGE_IMMIGRATION_YEAR'>"
      ]
     },
     "execution_count": 25,
     "metadata": {},
     "output_type": "execute_result"
    },
    {
     "data": {
      "image/png": "[encoded data removed]",
      "text/plain": [
       "<Figure size 432x288 with 1 Axes>"
      ]
     },
     "metadata": {
      "needs_background": "light"
     },
     "output_type": "display_data"
    }
   ],
   "source": [
    "sns.violinplot(x='sexe', y='AGE_IMMIGRATION_YEAR', data=Haiti_fa[Haiti_fa.COUNTRY_BIRTH==\"HAITI\"])"
   ]
  },
  {
   "attachments": {},
   "cell_type": "markdown",
   "metadata": {},
   "source": [
    "Plot Proportions of European ancestry"
   ]
  },
  {
   "cell_type": "code",
   "execution_count": 27,
   "metadata": {},
   "outputs": [],
   "source": [
    "proportions_file=\"/home/gfemer/storage/Cartagene/Flagship/Haiti/admixture-final-1kgp_unrelated/gsa_omni1kgp_hg38-HaitiAdmx.unrelated.EURproportions-Haiti-K3.txt\"\n",
    "proportions = pd.read_table(proportions_file,sep=\" \",names=['Population','file111','Proportion'])"
   ]
  },
  {
   "cell_type": "code",
   "execution_count": 28,
   "metadata": {},
   "outputs": [],
   "source": [
    "proportions['file111'] = proportions['file111'].astype(str)\n",
    "Haiti_data['file111'] = Haiti_data['file111'].astype(str)"
   ]
  },
  {
   "cell_type": "code",
   "execution_count": 29,
   "metadata": {},
   "outputs": [],
   "source": [
    "result_df = pd.merge(proportions, Haiti_fa[['file111', 'AGE_IMMIGRATION_YEAR']], on='file111', how='inner')"
   ]
  },
  {
   "cell_type": "code",
   "execution_count": 31,
   "metadata": {},
   "outputs": [
    {
     "data": {
      "text/plain": [
       "<AxesSubplot:xlabel='Proportion', ylabel='Count'>"
      ]
     },
     "execution_count": 31,
     "metadata": {},
     "output_type": "execute_result"
    },
    {
     "data": {
      "image/png": "[encoded data removed]",
      "text/plain": [
       "<Figure size 432x288 with 1 Axes>"
      ]
     },
     "metadata": {
      "needs_background": "light"
     },
     "output_type": "display_data"
    }
   ],
   "source": [
    "import seaborn as sns \n",
    "#sns.pointplot(result_df,x='AGE_IMMIGRATION_YEAR',y='Proportion')\n",
    "sns.histplot(result_df.Proportion)"
   ]
  }
 ],
 "metadata": {
  "kernelspec": {
   "display_name": "jupyter_py3.8",
   "language": "python",
   "name": "python3"
  },
  "language_info": {
   "codemirror_mode": {
    "name": "ipython",
    "version": 3
   },
   "file_extension": ".py",
   "mimetype": "text/x-python",
   "name": "python",
   "nbconvert_exporter": "python",
   "pygments_lexer": "ipython3",
   "version": "3.8.10"
  },
  "orig_nbformat": 4
 },
 "nbformat": 4,
 "nbformat_minor": 2
}
