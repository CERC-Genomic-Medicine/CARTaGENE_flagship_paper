{
 "cells": [
  {
   "cell_type": "code",
   "execution_count": 1,
   "metadata": {},
   "outputs": [],
   "source": [
    "# import modules \n",
    "import pandas as pd\n",
    "import matplotlib.pyplot as plt\n",
    "import numpy as np\n",
    "import re\n",
    "import csv\n",
    "import filters as f"
   ]
  },
  {
   "attachments": {},
   "cell_type": "markdown",
   "metadata": {},
   "source": [
    "Linking to databases"
   ]
  },
  {
   "cell_type": "code",
   "execution_count": 2,
   "metadata": {},
   "outputs": [],
   "source": [
    "# Path to data file in csv format\n",
    "data_file = \"/home/gfemer/projects/ctb-sgravel/cartagene/research/quebec_structure_936028/data/old_metadata/data_Gravel936028_2.csv\"\n",
    "# Path to metadata info file in xlsx format\n",
    "catalog_file = '/home/gfemer/projects/ctb-sgravel/cartagene/research/quebec_structure_936028/data/old_metadata/COMBINED_CATALOG_v2_9_6 - JUIL2020_0.xlsx'\n",
    "# Path to phase2 country other codes\n",
    "phase2_file = \"/home/gfemer/storage/Cartagene/databases/phase2_country.txt\"\n",
    "# Path to ISO county code file\n",
    "iso_file = \"/home/gfemer/storage/Cartagene/databases/ISO_country_codes_edited_cartagene.txt\""
   ]
  },
  {
   "cell_type": "code",
   "execution_count": 3,
   "metadata": {},
   "outputs": [],
   "source": [
    "# Relevant fields\n",
    "fields = \"ethnic,country\"\n",
    "fields = \"file111,PHASE,CREGION,\"+fields"
   ]
  },
  {
   "cell_type": "code",
   "execution_count": 4,
   "metadata": {},
   "outputs": [
    {
     "name": "stdout",
     "output_type": "stream",
     "text": [
      "Reading metadata\n",
      "Finished reading data\n"
     ]
    }
   ],
   "source": [
    "data = f.parse_metadata(data_file,catalog_file,fields,drop_other=False)\n",
    "data = f.correct_iso(data,phase2_file,iso_file,drop_other=True)"
   ]
  },
  {
   "cell_type": "code",
   "execution_count": 42,
   "metadata": {},
   "outputs": [
    {
     "data": {
      "text/plain": [
       "Index(['file111', 'phase', 'COUNTRY_BIRTH', 'MOTHER_COUNTRY_BIRTH',\n",
       "       'FATHER_COUNTRY_BIRTH', 'MOTHERS_MOTHER_COUNTRY_BIRTH',\n",
       "       'MOTHERS_FATHER_COUNTRY_BIRTH', 'FATHERS_MOTHER_COUNTRY_BIRTH',\n",
       "       'FATHERS_FATHER_COUNTRY_BIRTH'],\n",
       "      dtype='object')"
      ]
     },
     "execution_count": 42,
     "metadata": {},
     "output_type": "execute_result"
    }
   ],
   "source": [
    "data.keys()"
   ]
  },
  {
   "cell_type": "code",
   "execution_count": 14,
   "metadata": {},
   "outputs": [
    {
     "data": {
      "text/plain": [
       "COUNTRY_BIRTH  ETHNICITY_ME\n",
       "CANADA         ABORIGINAL      63\n",
       "PERU           ABORIGINAL       2\n",
       "Name: ETHNICITY_ME, dtype: int64"
      ]
     },
     "execution_count": 14,
     "metadata": {},
     "output_type": "execute_result"
    }
   ],
   "source": [
    "data[data.ETHNICITY_ME == \"ABORIGINAL\"].groupby(\"COUNTRY_BIRTH\").ETHNICITY_ME.value_counts()"
   ]
  },
  {
   "cell_type": "code",
   "execution_count": 15,
   "metadata": {},
   "outputs": [
    {
     "data": {
      "text/plain": [
       "COUNTRY_BIRTH  ETHNICITY_ME   \n",
       "CANADA         WHITEABORIGINAL    182\n",
       "UNITED_STATES  WHITEABORIGINAL      1\n",
       "Name: ETHNICITY_ME, dtype: int64"
      ]
     },
     "execution_count": 15,
     "metadata": {},
     "output_type": "execute_result"
    }
   ],
   "source": [
    "data[data.ETHNICITY_ME == \"WHITEABORIGINAL\"].groupby(\"COUNTRY_BIRTH\").ETHNICITY_ME.value_counts()"
   ]
  },
  {
   "cell_type": "code",
   "execution_count": 5,
   "metadata": {},
   "outputs": [],
   "source": [
    "# Relevant filter and sample\n",
    "filters = \"CANADA\"\n",
    "filters = filters.split(\",\")"
   ]
  },
  {
   "cell_type": "code",
   "execution_count": 6,
   "metadata": {},
   "outputs": [],
   "source": [
    "# Check for Mixed Ancestry in the grandparents\n",
    "NA_data= pd.DataFrame()\n",
    "expression='MOTHERS|FATHERS'\n",
    "\n",
    "data_all = f.filter_by_value(data,filters)"
   ]
  },
  {
   "attachments": {},
   "cell_type": "markdown",
   "metadata": {},
   "source": [
    "Count number of grandparents in country = Canada"
   ]
  },
  {
   "cell_type": "code",
   "execution_count": 7,
   "metadata": {},
   "outputs": [
    {
     "name": "stdout",
     "output_type": "stream",
     "text": [
      "Total individuals extracted  25291\n"
     ]
    },
    {
     "name": "stderr",
     "output_type": "stream",
     "text": [
      "/tmp/ipykernel_2547061/2171568480.py:18: SettingWithCopyWarning: \n",
      "A value is trying to be set on a copy of a slice from a DataFrame.\n",
      "Try using .loc[row_indexer,col_indexer] = value instead\n",
      "\n",
      "See the caveats in the documentation: https://pandas.pydata.org/pandas-docs/stable/user_guide/indexing.html#returning-a-view-versus-a-copy\n",
      "  data_med_totalancs['Population'] = data_med_totalancs.MOTHERS_MOTHER_COUNTRY_BIRTH\n"
     ]
    },
    {
     "name": "stdout",
     "output_type": "stream",
     "text": [
      "Total inds. with full ancestry:  20628\n",
      "Total indvs. with at least two grandparents born in the countries of interest  23719\n",
      "0 Granparents:  1318\n",
      "1 Granparent:  254\n",
      "2 Granparents:  1361\n",
      "3 Granparents:  1730\n",
      "4 Granparents:  20628\n",
      "4 Grandparents born in the same country 20628\n",
      "Total retained after removing 0-1 gps:  23719\n"
     ]
    }
   ],
   "source": [
    "# Find columns with 'MOTHERS' or 'FATHERS' in their names\n",
    "filtered_columns = [col for col in data_all.columns if 'MOTHERS' in col or 'FATHERS' in col]\n",
    "\n",
    "data_all['NGP_COUNTRY_INTEREST'] = data_all[filtered_columns].isin(filters).sum(axis=1)\n",
    "\n",
    "print(\"Total individuals extracted \", len(data_all))\n",
    "\n",
    "# Extract individuals with total ancestry\n",
    "#data_med_totalancs = data_all[data_all.NGP_COUNTRY_INTEREST == 4].copy()\n",
    "\n",
    "# Removing individuals with none to only one grandparent in the countries of interest\n",
    "data_med = data_all[data_all.NGP_COUNTRY_INTEREST > 1].copy()\n",
    "\n",
    "data_med_totalancs = data_med[data_med[filtered_columns].nunique(axis=1) == 1]\n",
    "\n",
    "#data_all[data_all.NGP_COUNTRY_INTEREST == 4].copy()\n",
    "\n",
    "data_med_totalancs['Population'] = data_med_totalancs.MOTHERS_MOTHER_COUNTRY_BIRTH\n",
    "print(\"Total inds. with full ancestry: \",len(data_med_totalancs))\n",
    "\n",
    "print(\"Total indvs. with at least two grandparents born in the countries of interest \", len(data_med))\n",
    "print(\"0 Granparents: \", len(data_all[data_all.NGP_COUNTRY_INTEREST == 0]))\n",
    "print(\"1 Granparent: \", len(data_all[data_all.NGP_COUNTRY_INTEREST == 1]))\n",
    "print(\"2 Granparents: \", len(data_all[data_all.NGP_COUNTRY_INTEREST == 2]))\n",
    "print(\"3 Granparents: \", len(data_all[data_all.NGP_COUNTRY_INTEREST == 3]))\n",
    "print(\"4 Granparents: \", len(data_all[data_all.NGP_COUNTRY_INTEREST == 4]))\n",
    "print(\"4 Grandparents born in the same country\",(data_med[filtered_columns].nunique(axis=1) == 1).sum())\n",
    "\n",
    "print(\"Total retained after removing 0-1 gps: \", len(data_med))"
   ]
  },
  {
   "cell_type": "code",
   "execution_count": 8,
   "metadata": {},
   "outputs": [],
   "source": [
    "data_med = data_med[data_med[filtered_columns].nunique(axis=1) == 1].copy()"
   ]
  },
  {
   "cell_type": "code",
   "execution_count": 9,
   "metadata": {},
   "outputs": [],
   "source": [
    "# Extract individuals with total ancestry\n",
    "data_med['Population'] = data_med.MOTHERS_MOTHER_COUNTRY_BIRTH"
   ]
  },
  {
   "cell_type": "code",
   "execution_count": 10,
   "metadata": {},
   "outputs": [
    {
     "data": {
      "text/html": [
       "<div>\n",
       "<style scoped>\n",
       "    .dataframe tbody tr th:only-of-type {\n",
       "        vertical-align: middle;\n",
       "    }\n",
       "\n",
       "    .dataframe tbody tr th {\n",
       "        vertical-align: top;\n",
       "    }\n",
       "\n",
       "    .dataframe thead th {\n",
       "        text-align: right;\n",
       "    }\n",
       "</style>\n",
       "<table border=\"1\" class=\"dataframe\">\n",
       "  <thead>\n",
       "    <tr style=\"text-align: right;\">\n",
       "      <th></th>\n",
       "      <th>file111</th>\n",
       "      <th>phase</th>\n",
       "      <th>COUNTRY_BIRTH</th>\n",
       "      <th>MOTHER_COUNTRY_BIRTH</th>\n",
       "      <th>FATHER_COUNTRY_BIRTH</th>\n",
       "      <th>MOTHERS_MOTHER_COUNTRY_BIRTH</th>\n",
       "      <th>MOTHERS_FATHER_COUNTRY_BIRTH</th>\n",
       "      <th>FATHERS_MOTHER_COUNTRY_BIRTH</th>\n",
       "      <th>FATHERS_FATHER_COUNTRY_BIRTH</th>\n",
       "      <th>ethnicity</th>\n",
       "      <th>...</th>\n",
       "      <th>ETHNICITY_CORRECT_ME</th>\n",
       "      <th>ETHNICITY_MOTHER</th>\n",
       "      <th>ETHNICITY_CORRECT_MOTHER</th>\n",
       "      <th>ETHNICITY_FATHER</th>\n",
       "      <th>ETHNICITY_CORRECT_FATHER</th>\n",
       "      <th>IMPUTED_ETHNIC_CB</th>\n",
       "      <th>IMPUTED_ETHNIC2_CB</th>\n",
       "      <th>ETHNIC_FR_CB</th>\n",
       "      <th>NGP_COUNTRY_INTEREST</th>\n",
       "      <th>Population</th>\n",
       "    </tr>\n",
       "  </thead>\n",
       "  <tbody>\n",
       "    <tr>\n",
       "      <th>0</th>\n",
       "      <td>11135473</td>\n",
       "      <td>PHASE A</td>\n",
       "      <td>CANADA</td>\n",
       "      <td>CANADA</td>\n",
       "      <td>CANADA</td>\n",
       "      <td>CANADA</td>\n",
       "      <td>CANADA</td>\n",
       "      <td>CANADA</td>\n",
       "      <td>CANADA</td>\n",
       "      <td>WHITE / EUROPEAN</td>\n",
       "      <td>...</td>\n",
       "      <td>NA</td>\n",
       "      <td>NA</td>\n",
       "      <td>NA</td>\n",
       "      <td>NA</td>\n",
       "      <td>NA</td>\n",
       "      <td>WHITE / EUROPEAN</td>\n",
       "      <td>WHITE</td>\n",
       "      <td>ENGLISH CANADIAN</td>\n",
       "      <td>4</td>\n",
       "      <td>CANADA</td>\n",
       "    </tr>\n",
       "    <tr>\n",
       "      <th>1</th>\n",
       "      <td>11118917</td>\n",
       "      <td>PHASE A</td>\n",
       "      <td>CANADA</td>\n",
       "      <td>CANADA</td>\n",
       "      <td>CANADA</td>\n",
       "      <td>CANADA</td>\n",
       "      <td>CANADA</td>\n",
       "      <td>CANADA</td>\n",
       "      <td>CANADA</td>\n",
       "      <td>WHITE / EUROPEAN</td>\n",
       "      <td>...</td>\n",
       "      <td>white</td>\n",
       "      <td>NA</td>\n",
       "      <td>NA</td>\n",
       "      <td>NA</td>\n",
       "      <td>NA</td>\n",
       "      <td>WHITE / EUROPEAN</td>\n",
       "      <td>WHITE</td>\n",
       "      <td>FRENCH CANADIAN</td>\n",
       "      <td>4</td>\n",
       "      <td>CANADA</td>\n",
       "    </tr>\n",
       "    <tr>\n",
       "      <th>3</th>\n",
       "      <td>11129743</td>\n",
       "      <td>PHASE A</td>\n",
       "      <td>CANADA</td>\n",
       "      <td>CANADA</td>\n",
       "      <td>CANADA</td>\n",
       "      <td>CANADA</td>\n",
       "      <td>CANADA</td>\n",
       "      <td>CANADA</td>\n",
       "      <td>CANADA</td>\n",
       "      <td>WHITE / EUROPEAN</td>\n",
       "      <td>...</td>\n",
       "      <td>white</td>\n",
       "      <td>NA</td>\n",
       "      <td>NA</td>\n",
       "      <td>NA</td>\n",
       "      <td>NA</td>\n",
       "      <td>WHITE / EUROPEAN</td>\n",
       "      <td>WHITE</td>\n",
       "      <td>FRENCH CANADIAN</td>\n",
       "      <td>4</td>\n",
       "      <td>CANADA</td>\n",
       "    </tr>\n",
       "    <tr>\n",
       "      <th>4</th>\n",
       "      <td>11131652</td>\n",
       "      <td>PHASE A</td>\n",
       "      <td>CANADA</td>\n",
       "      <td>CANADA</td>\n",
       "      <td>CANADA</td>\n",
       "      <td>CANADA</td>\n",
       "      <td>CANADA</td>\n",
       "      <td>CANADA</td>\n",
       "      <td>CANADA</td>\n",
       "      <td>WHITE / EUROPEAN</td>\n",
       "      <td>...</td>\n",
       "      <td>NA</td>\n",
       "      <td>NA</td>\n",
       "      <td>NA</td>\n",
       "      <td>NA</td>\n",
       "      <td>NA</td>\n",
       "      <td>WHITE / EUROPEAN</td>\n",
       "      <td>WHITE</td>\n",
       "      <td>FRENCH CANADIAN</td>\n",
       "      <td>4</td>\n",
       "      <td>CANADA</td>\n",
       "    </tr>\n",
       "    <tr>\n",
       "      <th>5</th>\n",
       "      <td>11115717</td>\n",
       "      <td>PHASE A</td>\n",
       "      <td>CANADA</td>\n",
       "      <td>CANADA</td>\n",
       "      <td>CANADA</td>\n",
       "      <td>CANADA</td>\n",
       "      <td>CANADA</td>\n",
       "      <td>CANADA</td>\n",
       "      <td>CANADA</td>\n",
       "      <td>WHITE / EUROPEAN</td>\n",
       "      <td>...</td>\n",
       "      <td>white</td>\n",
       "      <td>NA</td>\n",
       "      <td>NA</td>\n",
       "      <td>NA</td>\n",
       "      <td>NA</td>\n",
       "      <td>WHITE / EUROPEAN</td>\n",
       "      <td>WHITE</td>\n",
       "      <td>FRENCH CANADIAN</td>\n",
       "      <td>4</td>\n",
       "      <td>CANADA</td>\n",
       "    </tr>\n",
       "    <tr>\n",
       "      <th>...</th>\n",
       "      <td>...</td>\n",
       "      <td>...</td>\n",
       "      <td>...</td>\n",
       "      <td>...</td>\n",
       "      <td>...</td>\n",
       "      <td>...</td>\n",
       "      <td>...</td>\n",
       "      <td>...</td>\n",
       "      <td>...</td>\n",
       "      <td>...</td>\n",
       "      <td>...</td>\n",
       "      <td>...</td>\n",
       "      <td>...</td>\n",
       "      <td>...</td>\n",
       "      <td>...</td>\n",
       "      <td>...</td>\n",
       "      <td>...</td>\n",
       "      <td>...</td>\n",
       "      <td>...</td>\n",
       "      <td>...</td>\n",
       "      <td>...</td>\n",
       "    </tr>\n",
       "    <tr>\n",
       "      <th>29344</th>\n",
       "      <td>11124022</td>\n",
       "      <td>PHASE A</td>\n",
       "      <td>CANADA</td>\n",
       "      <td>CANADA</td>\n",
       "      <td>CANADA</td>\n",
       "      <td>CANADA</td>\n",
       "      <td>CANADA</td>\n",
       "      <td>CANADA</td>\n",
       "      <td>CANADA</td>\n",
       "      <td>WHITE / EUROPEAN</td>\n",
       "      <td>...</td>\n",
       "      <td>white</td>\n",
       "      <td>NA</td>\n",
       "      <td>NA</td>\n",
       "      <td>NA</td>\n",
       "      <td>NA</td>\n",
       "      <td>WHITE / EUROPEAN</td>\n",
       "      <td>WHITE</td>\n",
       "      <td>FRENCH CANADIAN</td>\n",
       "      <td>4</td>\n",
       "      <td>CANADA</td>\n",
       "    </tr>\n",
       "    <tr>\n",
       "      <th>29345</th>\n",
       "      <td>11126766</td>\n",
       "      <td>PHASE A</td>\n",
       "      <td>CANADA</td>\n",
       "      <td>CANADA</td>\n",
       "      <td>CANADA</td>\n",
       "      <td>CANADA</td>\n",
       "      <td>CANADA</td>\n",
       "      <td>CANADA</td>\n",
       "      <td>CANADA</td>\n",
       "      <td>WHITE / EUROPEAN</td>\n",
       "      <td>...</td>\n",
       "      <td>NA</td>\n",
       "      <td>NA</td>\n",
       "      <td>NA</td>\n",
       "      <td>NA</td>\n",
       "      <td>NA</td>\n",
       "      <td>WHITE / EUROPEAN</td>\n",
       "      <td>WHITE</td>\n",
       "      <td>FRENCH CANADIAN</td>\n",
       "      <td>4</td>\n",
       "      <td>CANADA</td>\n",
       "    </tr>\n",
       "    <tr>\n",
       "      <th>29346</th>\n",
       "      <td>11129199</td>\n",
       "      <td>PHASE B - SECOND WAVE</td>\n",
       "      <td>CANADA</td>\n",
       "      <td>CANADA</td>\n",
       "      <td>CANADA</td>\n",
       "      <td>CANADA</td>\n",
       "      <td>CANADA</td>\n",
       "      <td>CANADA</td>\n",
       "      <td>CANADA</td>\n",
       "      <td>WHITE / EUROPEAN</td>\n",
       "      <td>...</td>\n",
       "      <td>white</td>\n",
       "      <td>WHITE</td>\n",
       "      <td>white</td>\n",
       "      <td>WHITE</td>\n",
       "      <td>white</td>\n",
       "      <td>NA</td>\n",
       "      <td>NA</td>\n",
       "      <td>NA</td>\n",
       "      <td>4</td>\n",
       "      <td>CANADA</td>\n",
       "    </tr>\n",
       "    <tr>\n",
       "      <th>29347</th>\n",
       "      <td>11137884</td>\n",
       "      <td>PHASE A</td>\n",
       "      <td>CANADA</td>\n",
       "      <td>CANADA</td>\n",
       "      <td>CANADA</td>\n",
       "      <td>CANADA</td>\n",
       "      <td>CANADA</td>\n",
       "      <td>CANADA</td>\n",
       "      <td>CANADA</td>\n",
       "      <td>WHITE / EUROPEAN</td>\n",
       "      <td>...</td>\n",
       "      <td>white</td>\n",
       "      <td>NA</td>\n",
       "      <td>NA</td>\n",
       "      <td>NA</td>\n",
       "      <td>NA</td>\n",
       "      <td>WHITE / EUROPEAN</td>\n",
       "      <td>WHITE</td>\n",
       "      <td>FRENCH CANADIAN</td>\n",
       "      <td>4</td>\n",
       "      <td>CANADA</td>\n",
       "    </tr>\n",
       "    <tr>\n",
       "      <th>29348</th>\n",
       "      <td>11114915</td>\n",
       "      <td>PHASE A</td>\n",
       "      <td>CANADA</td>\n",
       "      <td>CANADA</td>\n",
       "      <td>CANADA</td>\n",
       "      <td>CANADA</td>\n",
       "      <td>CANADA</td>\n",
       "      <td>CANADA</td>\n",
       "      <td>CANADA</td>\n",
       "      <td>WHITE / EUROPEAN</td>\n",
       "      <td>...</td>\n",
       "      <td>NA</td>\n",
       "      <td>NA</td>\n",
       "      <td>NA</td>\n",
       "      <td>NA</td>\n",
       "      <td>NA</td>\n",
       "      <td>WHITE / EUROPEAN</td>\n",
       "      <td>WHITE</td>\n",
       "      <td>FRENCH CANADIAN</td>\n",
       "      <td>4</td>\n",
       "      <td>CANADA</td>\n",
       "    </tr>\n",
       "  </tbody>\n",
       "</table>\n",
       "<p>20628 rows × 22 columns</p>\n",
       "</div>"
      ],
      "text/plain": [
       "        file111                  phase COUNTRY_BIRTH MOTHER_COUNTRY_BIRTH  \\\n",
       "0      11135473                PHASE A        CANADA               CANADA   \n",
       "1      11118917                PHASE A        CANADA               CANADA   \n",
       "3      11129743                PHASE A        CANADA               CANADA   \n",
       "4      11131652                PHASE A        CANADA               CANADA   \n",
       "5      11115717                PHASE A        CANADA               CANADA   \n",
       "...         ...                    ...           ...                  ...   \n",
       "29344  11124022                PHASE A        CANADA               CANADA   \n",
       "29345  11126766                PHASE A        CANADA               CANADA   \n",
       "29346  11129199  PHASE B - SECOND WAVE        CANADA               CANADA   \n",
       "29347  11137884                PHASE A        CANADA               CANADA   \n",
       "29348  11114915                PHASE A        CANADA               CANADA   \n",
       "\n",
       "      FATHER_COUNTRY_BIRTH MOTHERS_MOTHER_COUNTRY_BIRTH  \\\n",
       "0                   CANADA                       CANADA   \n",
       "1                   CANADA                       CANADA   \n",
       "3                   CANADA                       CANADA   \n",
       "4                   CANADA                       CANADA   \n",
       "5                   CANADA                       CANADA   \n",
       "...                    ...                          ...   \n",
       "29344               CANADA                       CANADA   \n",
       "29345               CANADA                       CANADA   \n",
       "29346               CANADA                       CANADA   \n",
       "29347               CANADA                       CANADA   \n",
       "29348               CANADA                       CANADA   \n",
       "\n",
       "      MOTHERS_FATHER_COUNTRY_BIRTH FATHERS_MOTHER_COUNTRY_BIRTH  \\\n",
       "0                           CANADA                       CANADA   \n",
       "1                           CANADA                       CANADA   \n",
       "3                           CANADA                       CANADA   \n",
       "4                           CANADA                       CANADA   \n",
       "5                           CANADA                       CANADA   \n",
       "...                            ...                          ...   \n",
       "29344                       CANADA                       CANADA   \n",
       "29345                       CANADA                       CANADA   \n",
       "29346                       CANADA                       CANADA   \n",
       "29347                       CANADA                       CANADA   \n",
       "29348                       CANADA                       CANADA   \n",
       "\n",
       "      FATHERS_FATHER_COUNTRY_BIRTH         ethnicity  ...  \\\n",
       "0                           CANADA  WHITE / EUROPEAN  ...   \n",
       "1                           CANADA  WHITE / EUROPEAN  ...   \n",
       "3                           CANADA  WHITE / EUROPEAN  ...   \n",
       "4                           CANADA  WHITE / EUROPEAN  ...   \n",
       "5                           CANADA  WHITE / EUROPEAN  ...   \n",
       "...                            ...               ...  ...   \n",
       "29344                       CANADA  WHITE / EUROPEAN  ...   \n",
       "29345                       CANADA  WHITE / EUROPEAN  ...   \n",
       "29346                       CANADA  WHITE / EUROPEAN  ...   \n",
       "29347                       CANADA  WHITE / EUROPEAN  ...   \n",
       "29348                       CANADA  WHITE / EUROPEAN  ...   \n",
       "\n",
       "      ETHNICITY_CORRECT_ME ETHNICITY_MOTHER ETHNICITY_CORRECT_MOTHER  \\\n",
       "0                       NA               NA                       NA   \n",
       "1                    white               NA                       NA   \n",
       "3                    white               NA                       NA   \n",
       "4                       NA               NA                       NA   \n",
       "5                    white               NA                       NA   \n",
       "...                    ...              ...                      ...   \n",
       "29344                white               NA                       NA   \n",
       "29345                   NA               NA                       NA   \n",
       "29346                white            WHITE                    white   \n",
       "29347                white               NA                       NA   \n",
       "29348                   NA               NA                       NA   \n",
       "\n",
       "      ETHNICITY_FATHER ETHNICITY_CORRECT_FATHER IMPUTED_ETHNIC_CB  \\\n",
       "0                   NA                       NA  WHITE / EUROPEAN   \n",
       "1                   NA                       NA  WHITE / EUROPEAN   \n",
       "3                   NA                       NA  WHITE / EUROPEAN   \n",
       "4                   NA                       NA  WHITE / EUROPEAN   \n",
       "5                   NA                       NA  WHITE / EUROPEAN   \n",
       "...                ...                      ...               ...   \n",
       "29344               NA                       NA  WHITE / EUROPEAN   \n",
       "29345               NA                       NA  WHITE / EUROPEAN   \n",
       "29346            WHITE                    white                NA   \n",
       "29347               NA                       NA  WHITE / EUROPEAN   \n",
       "29348               NA                       NA  WHITE / EUROPEAN   \n",
       "\n",
       "      IMPUTED_ETHNIC2_CB      ETHNIC_FR_CB NGP_COUNTRY_INTEREST Population  \n",
       "0                  WHITE  ENGLISH CANADIAN                    4     CANADA  \n",
       "1                  WHITE   FRENCH CANADIAN                    4     CANADA  \n",
       "3                  WHITE   FRENCH CANADIAN                    4     CANADA  \n",
       "4                  WHITE   FRENCH CANADIAN                    4     CANADA  \n",
       "5                  WHITE   FRENCH CANADIAN                    4     CANADA  \n",
       "...                  ...               ...                  ...        ...  \n",
       "29344              WHITE   FRENCH CANADIAN                    4     CANADA  \n",
       "29345              WHITE   FRENCH CANADIAN                    4     CANADA  \n",
       "29346                 NA                NA                    4     CANADA  \n",
       "29347              WHITE   FRENCH CANADIAN                    4     CANADA  \n",
       "29348              WHITE   FRENCH CANADIAN                    4     CANADA  \n",
       "\n",
       "[20628 rows x 22 columns]"
      ]
     },
     "execution_count": 10,
     "metadata": {},
     "output_type": "execute_result"
    }
   ],
   "source": [
    "data_med"
   ]
  },
  {
   "cell_type": "code",
   "execution_count": 12,
   "metadata": {},
   "outputs": [
    {
     "data": {
      "text/plain": [
       "ethnic_fr         ETHNICITY_ME   \n",
       "ENGLISH CANADIAN  WHITE                151\n",
       "                  NA                    83\n",
       "                  OTHER                  1\n",
       "                  WHITEABORIGINAL        1\n",
       "                  WHITEBLACK             1\n",
       "                  WHITEJEWISH            1\n",
       "FRENCH CANADIAN   WHITE              14086\n",
       "                  NA                  4745\n",
       "                  OTHER                 19\n",
       "                  WHITEABORIGINAL       17\n",
       "                  ABORIGINAL            12\n",
       "                  BLACK                  4\n",
       "                  WHITEOTHER             2\n",
       "                  LATINO                 1\n",
       "                  WHITEARAB              1\n",
       "MISSING           WHITE                123\n",
       "                  WHITEABORIGINAL        5\n",
       "                  MISSING                2\n",
       "                  ABORIGINAL             1\n",
       "OTHER             WHITE                734\n",
       "                  NA                   372\n",
       "                  WHITEABORIGINAL      135\n",
       "                  MISSING               69\n",
       "                  ABORIGINAL            37\n",
       "                  OTHER                 15\n",
       "                  BLACK                  2\n",
       "                  JEWISH                 2\n",
       "                  WHITEARAB              2\n",
       "                  ARAB                   1\n",
       "                  WHITEJEWISH            1\n",
       "                  WHITELATINO            1\n",
       "                  WHITEOTHER             1\n",
       "Name: ETHNICITY_ME, dtype: int64"
      ]
     },
     "execution_count": 12,
     "metadata": {},
     "output_type": "execute_result"
    }
   ],
   "source": [
    "data_med[data_med.Population==\"CANADA\"].groupby(\"ethnic_fr\").ETHNICITY_ME.value_counts()"
   ]
  },
  {
   "cell_type": "code",
   "execution_count": 40,
   "metadata": {},
   "outputs": [
    {
     "data": {
      "text/plain": [
       "WHITEABORIGINAL    140\n",
       "WHITE               50\n",
       "NA                  49\n",
       "ABORIGINAL          38\n",
       "OTHER                3\n",
       "BLACK                1\n",
       "Name: ETHNICITY_ME, dtype: int64"
      ]
     },
     "execution_count": 40,
     "metadata": {},
     "output_type": "execute_result"
    }
   ],
   "source": [
    "other_aboriginal.ETHNICITY_ME.value_counts()"
   ]
  },
  {
   "attachments": {},
   "cell_type": "markdown",
   "metadata": {},
   "source": [
    "Adding the Latino ancestry individuals"
   ]
  },
  {
   "cell_type": "code",
   "execution_count": 14,
   "metadata": {},
   "outputs": [],
   "source": [
    "filters_lat=['PERU','COLOMBIA','MEXICO','CHILE']\n",
    "data_latino = f.filter_by_value(data,filters_lat)"
   ]
  },
  {
   "cell_type": "code",
   "execution_count": 15,
   "metadata": {},
   "outputs": [
    {
     "name": "stdout",
     "output_type": "stream",
     "text": [
      "Total individuals extracted with Latinx ancestry  326\n",
      "Total number of latinx individuals retained:  244\n",
      "COLOMBIA    100\n",
      "MEXICO       55\n",
      "CHILE        45\n",
      "PERU         44\n",
      "Name: Population, dtype: int64\n"
     ]
    }
   ],
   "source": [
    "# Find columns with 'MOTHERS' or 'FATHERS' in their names\n",
    "filtered_columns = [col for col in data_all.columns if 'MOTHERS' in col or 'FATHERS' in col]\n",
    "\n",
    "data_latino['NGP_COUNTRY_INTEREST'] = data_latino[filtered_columns].isin(filters_lat).sum(axis=1)\n",
    "print(\"Total individuals extracted with Latinx ancestry \", len(data_latino))\n",
    "\n",
    "# Extract individuals with total ancestry\n",
    "data_latino = data_latino[data_latino.NGP_COUNTRY_INTEREST == 4].copy()\n",
    "data_latino['Population'] = data_latino.MOTHERS_MOTHER_COUNTRY_BIRTH\n",
    "\n",
    "print(\"Total number of latinx individuals retained: \", len(data_latino))\n",
    "\n",
    "print(data_latino.Population.value_counts())"
   ]
  },
  {
   "cell_type": "code",
   "execution_count": 16,
   "metadata": {},
   "outputs": [
    {
     "data": {
      "text/plain": [
       "Population  ETHNICITY_ME\n",
       "CHILE       LATINO          20\n",
       "            NA              20\n",
       "            WHITELATINO      4\n",
       "            MISSING          1\n",
       "COLOMBIA    LATINO          57\n",
       "            NA              39\n",
       "            WHITE            3\n",
       "            WHITELATINO      1\n",
       "MEXICO      LATINO          33\n",
       "            NA              21\n",
       "            MISSING          1\n",
       "PERU        LATINO          26\n",
       "            NA              16\n",
       "            ABORIGINAL       2\n",
       "Name: ETHNICITY_ME, dtype: int64"
      ]
     },
     "execution_count": 16,
     "metadata": {},
     "output_type": "execute_result"
    }
   ],
   "source": [
    "data_latino.groupby(\"Population\").ETHNICITY_ME.value_counts()"
   ]
  },
  {
   "cell_type": "code",
   "execution_count": 28,
   "metadata": {},
   "outputs": [],
   "source": [
    "Perubians = data_latino[data_latino.Population == \"PERU\"]\n",
    "Mexicans = data_latino[data_latino.Population == \"MEXICO\"].sample(50)"
   ]
  },
  {
   "cell_type": "markdown",
   "metadata": {},
   "source": [
    "Add Europeans UK-FRANCE ancestry"
   ]
  },
  {
   "cell_type": "code",
   "execution_count": 17,
   "metadata": {},
   "outputs": [],
   "source": [
    "filters_EUR=['FRANCE','UNITED_KINGDOM']\n",
    "data_eur= f.filter_by_value(data,filters_EUR)"
   ]
  },
  {
   "cell_type": "code",
   "execution_count": 18,
   "metadata": {},
   "outputs": [
    {
     "name": "stdout",
     "output_type": "stream",
     "text": [
      "Total individuals extracted with French-UK ancestry  1818\n",
      "Total number of EUR individuals retained:  560\n",
      "FRANCE            419\n",
      "UNITED_KINGDOM    141\n",
      "Name: Population, dtype: int64\n"
     ]
    }
   ],
   "source": [
    "# Find columns with 'MOTHERS' or 'FATHERS' in their names\n",
    "filtered_columns = [col for col in data_all.columns if 'MOTHERS' in col or 'FATHERS' in col]\n",
    "\n",
    "data_eur['NGP_COUNTRY_INTEREST'] = data_eur[filtered_columns].isin(filters_EUR).sum(axis=1)\n",
    "print(\"Total individuals extracted with French-UK ancestry \", len(data_eur))\n",
    "\n",
    "# Extract individuals with total ancestry\n",
    "data_eur = data_eur[data_eur.NGP_COUNTRY_INTEREST == 4].copy()\n",
    "data_eur['Population'] = data_eur.MOTHERS_MOTHER_COUNTRY_BIRTH\n",
    "\n",
    "print(\"Total number of EUR individuals retained: \", len(data_eur))\n",
    "\n",
    "print(data_eur.Population.value_counts())"
   ]
  },
  {
   "cell_type": "markdown",
   "metadata": {},
   "source": [
    "Add African ancestry"
   ]
  },
  {
   "cell_type": "code",
   "execution_count": 20,
   "metadata": {},
   "outputs": [],
   "source": [
    "filters_AFR=['CAMEROON','CONGO_DEMOCRATIC_REPUBLIC','COTE_DIVORE']\n",
    "data_AFR= f.filter_by_value(data,filters_AFR)"
   ]
  },
  {
   "cell_type": "code",
   "execution_count": 21,
   "metadata": {},
   "outputs": [
    {
     "name": "stdout",
     "output_type": "stream",
     "text": [
      "Total individuals extracted with AFR ancestry  64\n",
      "Total number of AFR individuals retained:  47\n",
      "CONGO_DEMOCRATIC_REPUBLIC    25\n",
      "CAMEROON                     22\n",
      "Name: Population, dtype: int64\n"
     ]
    }
   ],
   "source": [
    "# Find columns with 'MOTHERS' or 'FATHERS' in their names\n",
    "filtered_columns = [col for col in data_all.columns if 'MOTHERS' in col or 'FATHERS' in col]\n",
    "\n",
    "data_AFR['NGP_COUNTRY_INTEREST'] = data_AFR[filtered_columns].isin(filters_AFR).sum(axis=1)\n",
    "print(\"Total individuals extracted with AFR ancestry \", len(data_AFR))\n",
    "\n",
    "# Extract individuals with total ancestry\n",
    "data_AFR = data_AFR[data_AFR.NGP_COUNTRY_INTEREST == 4].copy()\n",
    "data_AFR['Population'] = data_AFR.MOTHERS_MOTHER_COUNTRY_BIRTH\n",
    "\n",
    "print(\"Total number of AFR individuals retained: \", len(data_AFR))\n",
    "\n",
    "print(data_AFR.Population.value_counts())"
   ]
  },
  {
   "attachments": {},
   "cell_type": "markdown",
   "metadata": {},
   "source": [
    "Write Keep file to extract from plink"
   ]
  },
  {
   "cell_type": "code",
   "execution_count": null,
   "metadata": {},
   "outputs": [],
   "source": [
    "filters_EUR=['FRANCE','UNITED_KINGDOM']\n",
    "data_eur= f.filter_by_value(data,filters_EUR)"
   ]
  },
  {
   "cell_type": "code",
   "execution_count": null,
   "metadata": {},
   "outputs": [
    {
     "name": "stdout",
     "output_type": "stream",
     "text": [
      "Total individuals extracted with French-UK ancestry  1818\n",
      "Total number of EUR individuals retained:  560\n",
      "FRANCE            419\n",
      "UNITED_KINGDOM    141\n",
      "Name: Population, dtype: int64\n"
     ]
    }
   ],
   "source": [
    "# Find columns with 'MOTHERS' or 'FATHERS' in their names\n",
    "filtered_columns = [col for col in data_all.columns if 'MOTHERS' in col or 'FATHERS' in col]\n",
    "\n",
    "data_eur['NGP_COUNTRY_INTEREST'] = data_eur[filtered_columns].isin(filters_EUR).sum(axis=1)\n",
    "print(\"Total individuals extracted with French-UK ancestry \", len(data_eur))\n",
    "\n",
    "# Extract individuals with total ancestry\n",
    "data_eur = data_eur[data_eur.NGP_COUNTRY_INTEREST == 4].copy()\n",
    "data_eur['Population'] = data_eur.MOTHERS_MOTHER_COUNTRY_BIRTH\n",
    "\n",
    "print(\"Total number of EUR individuals retained: \", len(data_eur))\n",
    "\n",
    "print(data_eur.Population.value_counts())"
   ]
  },
  {
   "cell_type": "code",
   "execution_count": 28,
   "metadata": {},
   "outputs": [],
   "source": [
    "sample_EUR = data_eur.sample(200)"
   ]
  },
  {
   "cell_type": "code",
   "execution_count": 29,
   "metadata": {},
   "outputs": [
    {
     "data": {
      "text/plain": [
       "FRANCE            148\n",
       "UNITED_KINGDOM     52\n",
       "Name: Population, dtype: int64"
      ]
     },
     "execution_count": 29,
     "metadata": {},
     "output_type": "execute_result"
    }
   ],
   "source": [
    "sample_EUR.Population.value_counts()"
   ]
  },
  {
   "cell_type": "code",
   "execution_count": 25,
   "metadata": {},
   "outputs": [],
   "source": [
    "sample_CaG = data_med.sample(500)"
   ]
  },
  {
   "cell_type": "code",
   "execution_count": 32,
   "metadata": {},
   "outputs": [
    {
     "data": {
      "text/plain": [
       "WHITE              363\n",
       "NA                 132\n",
       "WHITEABORIGINAL      2\n",
       "ABORIGINAL           2\n",
       "MISSING              1\n",
       "Name: ETHNICITY_ME, dtype: int64"
      ]
     },
     "execution_count": 32,
     "metadata": {},
     "output_type": "execute_result"
    }
   ],
   "source": [
    "sample_CaG.ETHNICITY_ME.value_counts()"
   ]
  },
  {
   "cell_type": "code",
   "execution_count": 31,
   "metadata": {},
   "outputs": [],
   "source": [
    "panel = pd.concat([sample_CaG,sample_EUR,data_latino,data_AFR])\n",
    "f.write_keep(\"/home/gfemer/storage/Cartagene/Flagship/French_canadian/panel/gsa_merge_hg38.FCpanel.keep\", panel)"
   ]
  },
  {
   "cell_type": "markdown",
   "metadata": {},
   "source": [
    "Check ethnicity values of sampled CANADA"
   ]
  },
  {
   "cell_type": "code",
   "execution_count": 38,
   "metadata": {},
   "outputs": [],
   "source": [
    "sample_ids = pd.read_table(\"/home/gfemer/storage/Cartagene/Flagship/French_canadian/panel/gsa_merge_hg38.FCpanel.keep\",names=[\"COUNTRY\",\"file111\",\"file_111\"],dtype=str)"
   ]
  },
  {
   "cell_type": "code",
   "execution_count": 39,
   "metadata": {},
   "outputs": [],
   "source": [
    "ids = sample_ids[sample_ids.COUNTRY==\"CANADA\"]['file111'].tolist()"
   ]
  },
  {
   "cell_type": "code",
   "execution_count": 40,
   "metadata": {},
   "outputs": [
    {
     "data": {
      "text/plain": [
       "500"
      ]
     },
     "execution_count": 40,
     "metadata": {},
     "output_type": "execute_result"
    }
   ],
   "source": [
    "data.file111.isin(ids).sum()"
   ]
  },
  {
   "cell_type": "code",
   "execution_count": 46,
   "metadata": {},
   "outputs": [
    {
     "data": {
      "text/plain": [
       "Montréal          332\n",
       "Québec             90\n",
       "Saguenay           29\n",
       "Sherbrooke         21\n",
       "Trois-Rivières     15\n",
       "Gatineau           13\n",
       "Name: Cregion, dtype: int64"
      ]
     },
     "execution_count": 46,
     "metadata": {},
     "output_type": "execute_result"
    }
   ],
   "source": [
    "data[data.file111.isin(ids)].Cregion.value_counts()"
   ]
  },
  {
   "cell_type": "markdown",
   "metadata": {},
   "source": [
    "check IDs that have almost 100% of the 4th component"
   ]
  },
  {
   "cell_type": "code",
   "execution_count": 5,
   "metadata": {},
   "outputs": [],
   "source": [
    "ids_file = \"/home/gfemer/storage/Cartagene/Flagship/French_canadian/admixture_results/ids_c4_k4.txt\"\n",
    "with open(ids_file, 'r') as file:\n",
    "    ids = [line.strip('\\n') for line in file]"
   ]
  },
  {
   "cell_type": "code",
   "execution_count": 12,
   "metadata": {},
   "outputs": [
    {
     "data": {
      "text/plain": [
       "Saguenay          19\n",
       "Montréal          15\n",
       "Québec            10\n",
       "Gatineau           1\n",
       "Trois-Rivières     1\n",
       "Name: Cregion, dtype: int64"
      ]
     },
     "execution_count": 12,
     "metadata": {},
     "output_type": "execute_result"
    }
   ],
   "source": [
    "data[data.file111.isin(ids)].Cregion.value_counts()"
   ]
  },
  {
   "cell_type": "markdown",
   "metadata": {},
   "source": [
    "outdated sampling, not used anymore"
   ]
  },
  {
   "cell_type": "code",
   "execution_count": null,
   "metadata": {},
   "outputs": [],
   "source": [
    "FC_aboriginal = data_med[data_med.ethnic_fr==\"FRENCH CANADIAN\"]\n",
    "FC_aboriginal = f.filter_by_value(FC_aboriginal,[\"WHITEABORIGINAL\",\"ABORIGINAL\"])\n",
    "\n",
    "other_aboriginal = data_med[data_med[\"ethnic_fr\"].isin([\"OTHER\",\"MISSING\"])]\n",
    "other_aboriginal = f.filter_by_value(other_aboriginal,[\"ABORIGINAL\",\"WHITEABORIGINAL\"])"
   ]
  },
  {
   "cell_type": "code",
   "execution_count": null,
   "metadata": {},
   "outputs": [
    {
     "name": "stderr",
     "output_type": "stream",
     "text": [
      "/tmp/ipykernel_719663/14898016.py:6: UserWarning: Boolean Series key will be reindexed to match DataFrame index.\n",
      "  FC_sample = f.sample_pop(data_med[data_med.ethnic_fr==\"FRENCH CANADIAN\"][data_med.ETHNICITY_ME == \"WHITE\"], samplepops=[\"FRENCH CANADIAN\"], samplen=50, avoid=[\"ABORIGINAL\"])\n"
     ]
    }
   ],
   "source": [
    "#Sample French Canadian \"aboriginal\"\n",
    "FC_ab_sample = pd.concat([FC_aboriginal,other_aboriginal]).sample(50)\n",
    "FC_ab_sample.Population = np.repeat(\"French_Canadian_Ab\", 50, axis=0)\n",
    "\n",
    "#Sample French Canadian \"white\"\n",
    "FC_sample = f.sample_pop(data_med[data_med.ethnic_fr==\"FRENCH CANADIAN\"][data_med.ETHNICITY_ME == \"WHITE\"], samplepops=[\"FRENCH CANADIAN\"], samplen=50, avoid=[\"ABORIGINAL\"])\n",
    "FC_sample.Population = np.repeat(\"French_Canadian\",50)\n",
    "\n",
    "#Sample English Canadian\n",
    "EC_sample = data_med[data_med.ethnic_fr==\"ENGLISH CANADIAN\"].sample(50)\n",
    "EC_sample.Population = np.repeat(\"English_Canadian\",50)\n",
    "\n",
    "#Sample French and British\n",
    "FR_sample = data_med[data_med.Population==\"FRANCE\"].sample(50)\n",
    "UK_sample = data_med[data_med.Population==\"UNITED_KINGDOM\"].sample(50)"
   ]
  },
  {
   "cell_type": "code",
   "execution_count": null,
   "metadata": {},
   "outputs": [
    {
     "data": {
      "text/plain": [
       "ETHNICITY_ME     ETHNICITY_MOTHER  ETHNICITY_FATHER\n",
       "WHITEABORIGINAL  WHITEABORIGINAL   WHITE               46\n",
       "                 WHITE             WHITEABORIGINAL     40\n",
       "                 WHITEABORIGINAL   WHITEABORIGINAL     32\n",
       "ABORIGINAL       ABORIGINAL        ABORIGINAL          12\n",
       "                 WHITE             ABORIGINAL          10\n",
       "                 NA                NA                   9\n",
       "WHITEABORIGINAL  WHITE             WHITE                6\n",
       "ABORIGINAL       ABORIGINAL        WHITE                5\n",
       "WHITEABORIGINAL  ABORIGINAL        WHITE                5\n",
       "                 NA                NA                   5\n",
       "                 WHITE             ABORIGINAL           4\n",
       "ABORIGINAL       ABORIGINAL        MISSING              1\n",
       "                 MISSING           ABORIGINAL           1\n",
       "WHITEABORIGINAL  WHITE             OTHER                1\n",
       "                 WHITEABORIGINAL   MISSING              1\n",
       "dtype: int64"
      ]
     },
     "metadata": {},
     "output_type": "display_data"
    }
   ],
   "source": [
    "other_aboriginal[other_aboriginal[\"ETHNICITY_ME\"].isin([\"WHITEABORIGINAL\",\"ABORIGINAL\"])][[\"ETHNICITY_ME\",\"ETHNICITY_MOTHER\",\"ETHNICITY_FATHER\"]].value_counts()"
   ]
  },
  {
   "cell_type": "code",
   "execution_count": null,
   "metadata": {},
   "outputs": [
    {
     "data": {
      "text/plain": [
       "WHITE              59\n",
       "WHITEABORIGINAL    17\n",
       "ABORIGINAL         12\n",
       "Name: ETHNICITY_ME, dtype: int64"
      ]
     },
     "metadata": {},
     "output_type": "display_data"
    }
   ],
   "source": [
    "FC_aboriginal"
   ]
  },
  {
   "cell_type": "code",
   "execution_count": 29,
   "metadata": {},
   "outputs": [],
   "source": [
    "panel = pd.concat([EC_sample,FC_ab_sample,FC_sample,UK_sample,FR_sample,Perubians,Mexicans])"
   ]
  },
  {
   "cell_type": "code",
   "execution_count": 31,
   "metadata": {},
   "outputs": [
    {
     "name": "stdout",
     "output_type": "stream",
     "text": [
      "/home/gfemer/storage/Cartagene/Flagship/French_canadian/panel/gsa_merge_hg38.FCpanel_UKFRLat.keep already exists, overwritting\n"
     ]
    }
   ],
   "source": [
    "f.write_keep(\"/home/gfemer/storage/Cartagene/Flagship/French_canadian/panel/gsa_merge_hg38.FCpanel_UKFRLat.keep\", panel)"
   ]
  }
 ],
 "metadata": {
  "kernelspec": {
   "display_name": "moments",
   "language": "python",
   "name": "python3"
  },
  "language_info": {
   "codemirror_mode": {
    "name": "ipython",
    "version": 3
   },
   "file_extension": ".py",
   "mimetype": "text/x-python",
   "name": "python",
   "nbconvert_exporter": "python",
   "pygments_lexer": "ipython3",
   "version": "3.8.10"
  },
  "orig_nbformat": 4,
  "vscode": {
   "interpreter": {
    "hash": "9eaea9f47c4f59e180fbefe3fbc29feb613fdc2f7d4b2cc5b2448240dbe2688e"
   }
  }
 },
 "nbformat": 4,
 "nbformat_minor": 2
}
